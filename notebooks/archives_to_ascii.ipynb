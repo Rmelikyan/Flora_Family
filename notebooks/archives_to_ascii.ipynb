{
 "cells": [
  {
   "cell_type": "code",
   "execution_count": 23,
   "metadata": {},
   "outputs": [],
   "source": [
    "import sys\n",
    "sys.path.insert(0, \"../\")\n",
    "import rebound\n",
    "import numpy as np\n",
    "from src.utilities.particle_production import EjectionVector\n",
    "from src.utilities.constants import sec2year, rad2Deg, m2au, au2m\n",
    "from pathlib import Path\n",
    "import matplotlib.pyplot as plt"
   ]
  },
  {
   "cell_type": "code",
   "execution_count": 84,
   "metadata": {},
   "outputs": [
    {
     "data": {
      "text/plain": [
       "31536000.0"
      ]
     },
     "execution_count": 84,
     "metadata": {},
     "output_type": "execute_result"
    }
   ],
   "source": [
    "sec2year"
   ]
  },
  {
   "cell_type": "code",
   "execution_count": 92,
   "metadata": {},
   "outputs": [
    {
     "data": {
      "text/plain": [
       "'2.324'"
      ]
     },
     "execution_count": 92,
     "metadata": {},
     "output_type": "execute_result"
    }
   ],
   "source": [
    "file_name = Path('/Users/bethclark/Projects/Baptistina/out/2.324km_baps.bin').stem\n",
    "size = file_name[:-7]\n",
    "size"
   ]
  },
  {
   "cell_type": "code",
   "execution_count": 2,
   "metadata": {},
   "outputs": [],
   "source": [
    "sa = rebound.SimulationArchive('/Users/bethclark/Projects/Baptistina/out/2.324km_baps.bin')"
   ]
  },
  {
   "cell_type": "code",
   "execution_count": 93,
   "metadata": {},
   "outputs": [
    {
     "data": {
      "text/plain": [
       "40001"
      ]
     },
     "execution_count": 93,
     "metadata": {},
     "output_type": "execute_result"
    }
   ],
   "source": [
    "len(sa)"
   ]
  },
  {
   "cell_type": "code",
   "execution_count": 4,
   "metadata": {},
   "outputs": [
    {
     "name": "stderr",
     "output_type": "stream",
     "text": [
      "/Users/bethclark/Projects/Flora_Family/venv/lib/python3.9/site-packages/rebound/simulationarchive.py:146: RuntimeWarning: You have to reset function pointers after creating a reb_simulation struct with a binary file.\n",
      "  warnings.warn(message, RuntimeWarning)\n"
     ]
    },
    {
     "name": "stdout",
     "output_type": "stream",
     "text": [
      "10.0\n",
      "81\n"
     ]
    }
   ],
   "source": [
    "interval = (sa[1].t - sa[0].t)/sec2year*1e-3\n",
    "print(interval)\n",
    "\n",
    "indx_5myr = []\n",
    "for i, sim in enumerate(sa):\n",
    "    if sim.t/sec2year*1e-3 % 5000 == 0:\n",
    "        indx_5myr.append(i)\n",
    "print(len(indx_5myr))"
   ]
  },
  {
   "cell_type": "code",
   "execution_count": 12,
   "metadata": {},
   "outputs": [
    {
     "name": "stderr",
     "output_type": "stream",
     "text": [
      "/Users/bethclark/Projects/Flora_Family/venv/lib/python3.9/site-packages/rebound/simulationarchive.py:146: RuntimeWarning: You have to reset function pointers after creating a reb_simulation struct with a binary file.\n",
      "  warnings.warn(message, RuntimeWarning)\n"
     ]
    }
   ],
   "source": [
    "pm_range = 100 # want to average data over +/- 1million years\n",
    "\n",
    "data = {}\n",
    "\n",
    "for i in indx_5myr:\n",
    "    osculating_data = {0:{'a':[], 'e':[], 'i':[]}, 1:{'a':[], 'e':[], 'i':[]}, 2:{'a':[], 'e':[], 'i':[]}, 3:{'a':[], 'e':[], 'i':[]}, 4:{'a':[], 'e':[], 'i':[]}, 5:{'a':[], 'e':[], 'i':[]}, 6:{'a':[], 'e':[], 'i':[]}, 7:{'a':[], 'e':[], 'i':[]}, 8:{'a':[], 'e':[], 'i':[]}, 9:{'a':[], 'e':[], 'i':[]}}\n",
    "    sim = sa[i]\n",
    "    ps = sim.particles\n",
    "    if i < pm_range:\n",
    "        for j in range(pm_range + 1):\n",
    "            sim2 = sa[i+j]\n",
    "            orbs = sim2.calculate_orbits(sim2.particles[\"Sun\"])\n",
    "            for k, orb in enumerate(orbs[7:]):\n",
    "                osculating_data[k]['a'].append(orb.a*m2au)\n",
    "                osculating_data[k]['e'].append(orb.e)\n",
    "                osculating_data[k]['i'].append(np.sin(orb.inc))\n",
    "    elif (len(sa)-i) < pm_range:\n",
    "        for j in range(pm_range + 1):\n",
    "            sim2 = sa[i-j]\n",
    "            orbs = sim2.calculate_orbits(sim2.particles[\"Sun\"])\n",
    "            for k, orb in enumerate(orbs[7:]):\n",
    "                osculating_data[k]['a'].append(orb.a*m2au)\n",
    "                osculating_data[k]['e'].append(orb.e)\n",
    "                osculating_data[k]['i'].append(np.sin(orb.inc))\n",
    "    else:\n",
    "        for j in range(pm_range + 1):\n",
    "            sim2 = sa[i-j]\n",
    "            orbs = sim2.calculate_orbits(sim2.particles[\"Sun\"])\n",
    "            for k, orb in enumerate(orbs[7:]):\n",
    "                osculating_data[k]['a'].append(orb.a*m2au)\n",
    "                osculating_data[k]['e'].append(orb.e)\n",
    "                osculating_data[k]['i'].append(np.sin(orb.inc))\n",
    "            sim2 = sa[i+j]\n",
    "            orbs = sim2.calculate_orbits(sim2.particles[\"Sun\"])\n",
    "            for k, orb in enumerate(orbs[7:]):\n",
    "                osculating_data[k]['a'].append(orb.a*m2au)\n",
    "                osculating_data[k]['e'].append(orb.e)\n",
    "                osculating_data[k]['i'].append(np.sin(orb.inc))\n",
    "    \n",
    "    data[sa[i].t/sec2year*1e-6] = {0:{'a':np.mean(osculating_data[0]['a']), 'e':np.mean(osculating_data[0]['e']), 'i':np.mean(osculating_data[0]['i'])}, 1:{'a':np.mean(osculating_data[1]['a']), 'e':np.mean(osculating_data[1]['e']), 'i':np.mean(osculating_data[1]['i'])}, 2:{'a':np.mean(osculating_data[2]['a']), 'e':np.mean(osculating_data[2]['e']), 'i':np.mean(osculating_data[2]['i'])}, 3:{'a':np.mean(osculating_data[3]['a']), 'e':np.mean(osculating_data[3]['e']), 'i':np.mean(osculating_data[3]['i'])}, 4:{'a':np.mean(osculating_data[4]['a']), 'e':np.mean(osculating_data[4]['e']), 'i':np.mean(osculating_data[4]['i'])}, 5:{'a':np.mean(osculating_data[5]['a']), 'e':np.mean(osculating_data[5]['e']), 'i':np.mean(osculating_data[5]['i'])}, 6:{'a':np.mean(osculating_data[6]['a']), 'e':np.mean(osculating_data[6]['e']), 'i':np.mean(osculating_data[6]['i'])}, 7:{'a':np.mean(osculating_data[7]['a']), 'e':np.mean(osculating_data[7]['e']), 'i':np.mean(osculating_data[7]['i'])}, 8:{'a':np.mean(osculating_data[8]['a']), 'e':np.mean(osculating_data[8]['e']), 'i':np.mean(osculating_data[8]['i'])}, 9:{'a':np.mean(osculating_data[9]['a']), 'e':np.mean(osculating_data[9]['e']), 'i':np.mean(osculating_data[9]['i'])}}"
   ]
  },
  {
   "cell_type": "code",
   "execution_count": 15,
   "metadata": {},
   "outputs": [
    {
     "data": {
      "text/plain": [
       "{0: {'a': 2.2790759636824447,\n",
       "  'e': 0.1503056271010867,\n",
       "  'i': 0.10265148624350211},\n",
       " 1: {'a': 2.2437691107004203,\n",
       "  'e': 0.14388369452568397,\n",
       "  'i': 0.10577288673790936},\n",
       " 2: {'a': 2.2452547220091286,\n",
       "  'e': 0.14799068333541837,\n",
       "  'i': 0.11458901120181811},\n",
       " 3: {'a': 2.2657427824327514,\n",
       "  'e': 0.15068190554827354,\n",
       "  'i': 0.10679219070404186},\n",
       " 4: {'a': 2.2649184863918106,\n",
       "  'e': 0.15281174276946402,\n",
       "  'i': 0.10557984897541975},\n",
       " 5: {'a': 2.252388034860782,\n",
       "  'e': 0.15098996054982475,\n",
       "  'i': 0.10446039694577768},\n",
       " 6: {'a': 2.260403670609049,\n",
       "  'e': 0.14702306101260484,\n",
       "  'i': 0.10533127072480106},\n",
       " 7: {'a': 2.2740175188850555,\n",
       "  'e': 0.15018650771300351,\n",
       "  'i': 0.10578193244367165},\n",
       " 8: {'a': 2.2761566262546924,\n",
       "  'e': 0.15130522515371353,\n",
       "  'i': 0.10302531560076475},\n",
       " 9: {'a': 2.2722370722454093,\n",
       "  'e': 0.15527915858512173,\n",
       "  'i': 0.10254676509842792}}"
      ]
     },
     "execution_count": 15,
     "metadata": {},
     "output_type": "execute_result"
    }
   ],
   "source": [
    "data['time'][10.0]"
   ]
  },
  {
   "cell_type": "code",
   "execution_count": 55,
   "metadata": {},
   "outputs": [
    {
     "data": {
      "image/png": "[encoded data removed]",
      "text/plain": [
       "<Figure size 432x288 with 1 Axes>"
      ]
     },
     "metadata": {
      "needs_background": "light"
     },
     "output_type": "display_data"
    }
   ],
   "source": [
    "times = list(data.keys())\n",
    "import matplotlib.colors as mcolors\n",
    "colors = list(mcolors.TABLEAU_COLORS.keys())\n",
    "\n",
    "plt.figure()\n",
    "plt.gca().set_xlim(-0.05 + 2.27, 0.04 + 2.27)\n",
    "plt.gca().set_ylim(.125, 0.225)\n",
    "# plt.gca().set_ylim(0, .125)\n",
    "for time in times:\n",
    "    for pnum in data[time]:\n",
    "        plt.scatter(data[time][pnum]['a'], data[time][pnum]['e'], s = 3, c = colors[pnum])\n",
    "        if time == times[0]:\n",
    "            plt.scatter(data[time][pnum]['a'], data[time][pnum]['e'], s = 100, marker='*', c = colors[pnum])\n",
    "\n"
   ]
  },
  {
   "cell_type": "code",
   "execution_count": 49,
   "metadata": {},
   "outputs": [
    {
     "data": {
      "text/plain": [
       "'tab:blue'"
      ]
     },
     "execution_count": 49,
     "metadata": {},
     "output_type": "execute_result"
    }
   ],
   "source": [
    "list(mcolors.TABLEAU_COLORS.keys())[0]"
   ]
  },
  {
   "cell_type": "code",
   "execution_count": 82,
   "metadata": {},
   "outputs": [
    {
     "name": "stdout",
     "output_type": "stream",
     "text": [
      "0\t2.324\t2.2976601183569247\t0.16585562974247023\t0.12055747899882907\n",
      "1\t2.324\t2.2239144480699267\t0.14251994240206242\t0.12328466845761799\n",
      "4\t2.324\t2.2803608660999655\t0.15445371073718067\t0.11021659241568815\n",
      "5\t2.324\t2.234826628009396\t0.15638790999669694\t0.10859483988097972\n",
      "6\t2.324\t2.2776962193250867\t0.1504616057146934\t0.11976633979375122\n",
      "7\t2.324\t2.255272106565783\t0.20163853172936533\t0.11734452774304507\n",
      "8\t2.324\t2.293838755039587\t0.15943193023945496\t0.12640711441297456\n",
      "9\t2.324\t2.2544993128740884\t0.1551695459529951\t0.10192030115738611\n"
     ]
    }
   ],
   "source": [
    "size = 2.324\n",
    "year = 400.0\n",
    "for i in data[year]:\n",
    "    a=data[year][i]['a']\n",
    "    e=data[year][i]['e']\n",
    "    inc=data[year][i]['i']\n",
    "    p = (1-e)*a\n",
    "    if a < 10 and a>0 and p>1.5:\n",
    "        print('{}\\t{}\\t{}\\t{}\\t{}'.format(i, size, a, e, inc))"
   ]
  },
  {
   "cell_type": "code",
   "execution_count": 79,
   "metadata": {},
   "outputs": [
    {
     "data": {
      "text/plain": [
       "9.976069798947742"
      ]
     },
     "execution_count": 79,
     "metadata": {},
     "output_type": "execute_result"
    }
   ],
   "source": [
    "(1-0.627009941717129)*26.746208316850137"
   ]
  },
  {
   "cell_type": "code",
   "execution_count": null,
   "metadata": {},
   "outputs": [],
   "source": []
  }
 ],
 "metadata": {
  "interpreter": {
   "hash": "4e876f9c38acc3cec4ff3a059cd30fdf24e00c0cb455234093ed40f438826eeb"
  },
  "kernelspec": {
   "display_name": "Python 3.9.1 64-bit ('venv': venv)",
   "name": "python3"
  },
  "language_info": {
   "codemirror_mode": {
    "name": "ipython",
    "version": 3
   },
   "file_extension": ".py",
   "mimetype": "text/x-python",
   "name": "python",
   "nbconvert_exporter": "python",
   "pygments_lexer": "ipython3",
   "version": "3.9.1"
  },
  "orig_nbformat": 4
 },
 "nbformat": 4,
 "nbformat_minor": 2
}