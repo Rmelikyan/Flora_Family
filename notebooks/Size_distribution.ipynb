{
 "cells": [
  {
   "cell_type": "code",
   "execution_count": 8,
   "metadata": {},
   "outputs": [],
   "source": [
    "import matplotlib.pyplot as plt\n",
    "import numpy as np"
   ]
  },
  {
   "cell_type": "code",
   "execution_count": 14,
   "metadata": {},
   "outputs": [],
   "source": [
    "data = {'a_num':[], 'a':[], 'e':[], 'i':[], 'size':[]}\n",
    "with open(\"/Users/bethclark/Projects/Flora_Family/data/real_flora/fam-8-148-p9.list\") as f:\n",
    "    for line in f.readlines():\n",
    "        d = line.split()\n",
    "        a_num = int(d[1])\n",
    "        a = float(d[2])\n",
    "        e = float(d[3])\n",
    "        i = float(d[4])\n",
    "        size = float(d[5])\n",
    "        data['a_num'].append(a_num)\n",
    "        data['a'].append(a)\n",
    "        data['e'].append(e)\n",
    "        data['i'].append(i)\n",
    "        data['size'].append(size)\n"
   ]
  },
  {
   "cell_type": "code",
   "execution_count": 15,
   "metadata": {},
   "outputs": [
    {
     "name": "stdout",
     "output_type": "stream",
     "text": [
      "Removing Asteroid @ Index # 4707; Asteroid # 4; size: 521.74\n",
      "Removing Asteroid @ Index # 4257; Asteroid # 9; size: 184.16\n"
     ]
    }
   ],
   "source": [
    "max_indx = np.argmax(data['size'])\n",
    "a_num = data['a_num'][max_indx]\n",
    "while a_num != 8:\n",
    "    print('Removing Asteroid @ Index # {}; Asteroid # {}; size: {}'.format(max_indx, a_num, data['size'][max_indx]))\n",
    "    for key in data:\n",
    "        data[key].pop(max_indx)\n",
    "    max_indx = np.argmax(data['size'])\n",
    "    a_num = data['a_num'][max_indx]"
   ]
  },
  {
   "cell_type": "code",
   "execution_count": 43,
   "metadata": {},
   "outputs": [
    {
     "name": "stdout",
     "output_type": "stream",
     "text": [
      "Reduced number of simulations from 6412 to 368\n"
     ]
    }
   ],
   "source": [
    "reduced_data = {'a_num':[], 'a':[], 'e':[], 'i':[], 'size':[]}\n",
    "for i, size in enumerate(data['size']):\n",
    "    if size > 6:\n",
    "        reduced_data['a_num'].append(data['a_num'][i])\n",
    "        reduced_data['a'].append(data['a'][i])\n",
    "        reduced_data['e'].append(data['e'][i])\n",
    "        reduced_data['i'].append(data['i'][i])\n",
    "        reduced_data['size'].append(data['size'][i])\n",
    "\n",
    "print('Reduced number of simulations from {} to {}'.format(len(data['size']), len(reduced_data['size'])))"
   ]
  },
  {
   "cell_type": "code",
   "execution_count": 39,
   "metadata": {},
   "outputs": [],
   "source": [
    "sorted_data = {}\n",
    "for key in reduced_data:\n",
    "    sorted_data[key] = [x for _, x in sorted(zip(reduced_data['size'], reduced_data[key]), reverse=True)]\n",
    "\n",
    "for i, size in enumerate(sorted_data['size']):\n",
    "    sorted_data['size'][i] = size + .0001 * (sorted_data['size'].count(size)-1)"
   ]
  },
  {
   "cell_type": "code",
   "execution_count": 42,
   "metadata": {},
   "outputs": [],
   "source": [
    "with open('/Users/bethclark/Projects/Flora_Family/data/real_flora/flora_5km_up.list', 'w') as f:\n",
    "    prev_size = 0\n",
    "    for i in range(len(sorted_data['size'])):\n",
    "        a_num = sorted_data['a_num'][i]\n",
    "        a = sorted_data['a'][i]\n",
    "        e = sorted_data['e'][i]\n",
    "        inc = sorted_data['i'][i]\n",
    "        size = sorted_data['size'][i]\n",
    "        line = '{:<6}\\t{:<6}\\t{:<6}\\t{:<6}\\t{:<6}\\t{:<6.4f}\\n'.format(i, a_num, a, e, inc, size)\n",
    "        f.write(line)\n",
    "        prev_size = size"
   ]
  },
  {
   "cell_type": "code",
   "execution_count": 41,
   "metadata": {},
   "outputs": [],
   "source": [
    "for size in sorted_data['size']:\n",
    "    if sorted_data['size'].count(size) > 1:\n",
    "        print('oops')"
   ]
  }
 ],
 "metadata": {
  "interpreter": {
   "hash": "4e876f9c38acc3cec4ff3a059cd30fdf24e00c0cb455234093ed40f438826eeb"
  },
  "kernelspec": {
   "display_name": "Python 3.9.1 64-bit ('venv': venv)",
   "name": "python3"
  },
  "language_info": {
   "codemirror_mode": {
    "name": "ipython",
    "version": 3
   },
   "file_extension": ".py",
   "mimetype": "text/x-python",
   "name": "python",
   "nbconvert_exporter": "python",
   "pygments_lexer": "ipython3",
   "version": "3.9.1"
  },
  "orig_nbformat": 4
 },
 "nbformat": 4,
 "nbformat_minor": 2
}